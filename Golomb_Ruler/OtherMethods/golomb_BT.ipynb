{
 "cells": [
  {
   "cell_type": "markdown",
   "metadata": {},
   "source": [
    "### Solving Golomb Ruler Problem using Back Tracking"
   ]
  },
  {
   "cell_type": "code",
   "execution_count": 1,
   "metadata": {},
   "outputs": [],
   "source": [
    "def BT(L, M):\n",
    "    \"\"\"\n",
    "    L = Max length of Ruler\n",
    "    M = Number of markings\n",
    "    \"\"\"\n",
    "    # dictionary to store the assigned positions of the markers\n",
    "    global countNodes_bt\n",
    "    countNodes_bt  = 0\n",
    "    positions = {}\n",
    "\n",
    "    # Assign position -1 to keys 1....M\n",
    "    for i in range(0, M):\n",
    "        positions[i + 1] = -1\n",
    "\n",
    "    # minimum length of optimal solution = M C 2 (i.e. number of possible combinations of 2 variables out of M)\n",
    "    minimumL = M * (M - 1) // 2\n",
    "\n",
    "    # if L is less than M C 2, no solution exists\n",
    "    if L < minimumL:\n",
    "        print(countNodes_bt)\n",
    "\n",
    "        return -1, []\n",
    "\n",
    "    # initialize the domains of all the variables\n",
    "    for i in range (minimumL, L + 1):\n",
    "        initialDomains = []\n",
    "        for j in range(0, i + 1):\n",
    "            initialDomains.append(j)\n",
    "\n",
    "        # Initialise the dictionary containing variables and their corresponding domains\n",
    "        domains = {}\n",
    "        for j in range(0, M):\n",
    "            domains[j + 1] = list(initialDomains)\n",
    "\n",
    "        # Call recursiveBT with positions, domains, mCurrent, distances and Length as parameters\n",
    "        newL, newPos = recursiveBT(positions, domains, 1, [])\n",
    "\n",
    "        # return L + 1 and the positions returned by recursiveBT\n",
    "        if newL != -1:\n",
    "            print(countNodes_bt)\n",
    "            l = []\n",
    "            for i in range(1,M+1):\n",
    "                l.append(str(newPos[i]))\n",
    "\n",
    "            # return newL, newPos\n",
    "            return newL, ', '.join(l)\n",
    "    print(countNodes_bt)\n",
    "\n",
    "    return -1, []\n",
    "\n",
    "# This function implements plain backtracking to assign positions to the markers from their respective domains.\n",
    "def recursiveBT(positions, domains, mCurrent, distancesCurrent):\n",
    "    # Input parameters:\n",
    "        # positions: contains the positions which have been assigned to the markers (-1 indicates not yet assigned)\n",
    "        # domains: contains the domain of values that every marker holds\n",
    "        # mCurrent: is the current marker which has to be assigned a position\n",
    "        # distancesCurrent: contains the distances between the markers which have already been assigned positions\n",
    "    # Returns:\n",
    "        # first length at which the solution is found\n",
    "        # positions of the markers\n",
    "\n",
    "    # Increment the count of the nodes when this function is called\n",
    "    global countNodes_bt\n",
    "    countNodes_bt = countNodes_bt + 1\n",
    "\n",
    "    # If -1 is not present in the positions of the markers, then positions have been assigned to all markers.\n",
    "    if -1 not in positions.values():\n",
    "        return [positions[mCurrent - 1], positions]\n",
    "\n",
    "    # Iterate over all the positions in the domain of mCurrent and check if there is a solution\n",
    "    for mPos in domains[mCurrent]:\n",
    "        allocateFlag = True\n",
    "        # Create a new distances list which contains the distances between the markers which have already been assigned positions\n",
    "        distancesNew = list(distancesCurrent)\n",
    "\n",
    "        # If mPos is already allocated to some other marker, then check for the next mPos\n",
    "        if mPos in positions.values():\n",
    "            continue\n",
    "\n",
    "        # This loop is for calculating the distances between mPos and the positions of all the markers. This distances are appended to distancesNew.\n",
    "        for i in range(1, mCurrent):\n",
    "            # Calculate distance between mPos and positions[i]\n",
    "            distance = abs(mPos - positions[i])\n",
    "            # if the distance between mPos and the position of any marker already exists in distancesNew then mPos is not allocated to mCurrent.\n",
    "            if distance in distancesNew:\n",
    "                allocateFlag = False\n",
    "                break\n",
    "            distancesNew.append(distance)\n",
    "        if not allocateFlag:\n",
    "            continue\n",
    "\n",
    "        # create a new postions dictionary so that positions can be used for Back Tracking.\n",
    "        positionsNew = dict(positions)\n",
    "\n",
    "        #Assign mPos as position of mCurrent\n",
    "        positionsNew[mCurrent] = mPos\n",
    "\n",
    "\n",
    "        # call recursiveBT by giving new positions, domains, mCurrent + 1 and new distances as input\n",
    "        retL, retPositions = recursiveBT(positionsNew, domains, mCurrent + 1, distancesNew)\n",
    "\n",
    "        # if retL == -1 then there is no solution for the assignment that was passed, now check by assigning new mPos value to the mCurrent\n",
    "        # if retL is not -1 then a solution exists for the assigned mPos value as a position to the mCurrent\n",
    "        if retL != -1:\n",
    "            return retL, retPositions\n",
    "\n",
    "    # if control reaches here, there is no solution for the assignment that was passed\n",
    "    return -1, positions\n"
   ]
  },
  {
   "cell_type": "code",
   "execution_count": 2,
   "metadata": {},
   "outputs": [
    {
     "name": "stdout",
     "output_type": "stream",
     "text": [
      "10095777\n"
     ]
    },
    {
     "data": {
      "text/plain": [
       "(25, '0, 1, 4, 10, 18, 23, 25')"
      ]
     },
     "execution_count": 2,
     "metadata": {},
     "output_type": "execute_result"
    }
   ],
   "source": [
    "BT(30,7)"
   ]
  },
  {
   "cell_type": "code",
   "execution_count": null,
   "metadata": {},
   "outputs": [],
   "source": []
  }
 ],
 "metadata": {
  "kernelspec": {
   "display_name": "Python 3",
   "language": "python",
   "name": "python3"
  },
  "language_info": {
   "codemirror_mode": {
    "name": "ipython",
    "version": 3
   },
   "file_extension": ".py",
   "mimetype": "text/x-python",
   "name": "python",
   "nbconvert_exporter": "python",
   "pygments_lexer": "ipython3",
   "version": "3.7.2"
  }
 },
 "nbformat": 4,
 "nbformat_minor": 4
}
