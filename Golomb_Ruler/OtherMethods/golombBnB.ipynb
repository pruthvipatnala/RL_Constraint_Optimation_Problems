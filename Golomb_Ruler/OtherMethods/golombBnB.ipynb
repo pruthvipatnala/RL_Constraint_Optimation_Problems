{
 "cells": [
  {
   "cell_type": "markdown",
   "metadata": {},
   "source": [
    "### Solving Golomb Ruler Problem using Branch and Bound"
   ]
  },
  {
   "cell_type": "code",
   "execution_count": 1,
   "metadata": {},
   "outputs": [
    {
     "name": "stdout",
     "output_type": "stream",
     "text": [
      "268\n",
      "[0, 1, 4, 10, 18, 23, 25]\n"
     ]
    },
    {
     "data": {
      "text/plain": [
       "True"
      ]
     },
     "execution_count": 1,
     "metadata": {},
     "output_type": "execute_result"
    }
   ],
   "source": [
    "\"\"\"\n",
    "nextNums = list(range(ruler[ruler.index(-1)-1]+1 , 26))\n",
    "\n",
    "The upper limit should be set according to the objective:\n",
    "- For optimal solution, upper_limit = optimal_length+1\n",
    "- For any solution, upper_limit = <any value greater than optimal length>\n",
    "\"\"\"\n",
    "\n",
    "\n",
    "M = 7\n",
    "count = 0\n",
    "\n",
    "\"\"\" A utility function to print solution \"\"\"\n",
    "def printSolution(ruler):\n",
    "    print(ruler)\n",
    "\n",
    "\n",
    "def violation(state):\n",
    "    l = state\n",
    "    if(-1 in l):\n",
    "        l = l[:l.index(-1)]\n",
    "\n",
    "    distances = []\n",
    "    violation_score = 0\n",
    "\n",
    "    for i in range(len(l)-1):\n",
    "        for j in range(i+1,len(l)):\n",
    "            distances.append(abs(l[i] - l[j]))\n",
    "\n",
    "    for d in set(distances):\n",
    "        violation_score += distances.count(d) - 1\n",
    "\n",
    "    return violation_score\n",
    "\n",
    "\"\"\" A recursive utility function to solve Golomb Ruler problem \"\"\"\n",
    "def solveGolombRulerUtil(ruler):\n",
    "    global count\n",
    "    count+=1\n",
    "    \n",
    "    \"\"\" base case: If all markings are found, then return True \"\"\"\n",
    "    if(-1 not in ruler):\n",
    "        if(violation(ruler)==0):\n",
    "            return True\n",
    "        else:\n",
    "            return False\n",
    "    \n",
    "    # nextNums = list(range(ruler[ruler.index(-1)-1]+1 , 2**M))\n",
    "    nextNums = list(range(ruler[ruler.index(-1)-1]+1 , 26))\n",
    "    \n",
    "    for i in nextNums:\n",
    "        markingPosition = ruler.index(-1)\n",
    "        ruler[markingPosition] = i\n",
    "        if(violation(ruler)==0):\n",
    "            if(solveGolombRulerUtil(ruler)):\n",
    "                return True\n",
    "\n",
    "        ruler[markingPosition] = -1\n",
    "            \n",
    "    \"\"\" If queen can not be place in any row in\n",
    "    this colum col then return False \"\"\"\n",
    "    return False\n",
    "\n",
    "def solveGolombRuler():\n",
    "    \n",
    "    ruler = [-1 for i in range(M)]\n",
    "\n",
    "    if(solveGolombRulerUtil(ruler) == False):\n",
    "        print(\"Solution does not exist\")\n",
    "        return False\n",
    "\n",
    "    print(count)\n",
    "    # solution found\n",
    "    printSolution(ruler)\n",
    "    return True\n",
    "\n",
    "\n",
    "solveGolombRuler()\n"
   ]
  },
  {
   "cell_type": "code",
   "execution_count": null,
   "metadata": {},
   "outputs": [],
   "source": []
  }
 ],
 "metadata": {
  "kernelspec": {
   "display_name": "Python 3",
   "language": "python",
   "name": "python3"
  },
  "language_info": {
   "codemirror_mode": {
    "name": "ipython",
    "version": 3
   },
   "file_extension": ".py",
   "mimetype": "text/x-python",
   "name": "python",
   "nbconvert_exporter": "python",
   "pygments_lexer": "ipython3",
   "version": "3.7.2"
  }
 },
 "nbformat": 4,
 "nbformat_minor": 4
}
